{
 "cells": [
  {
   "cell_type": "code",
   "execution_count": 16,
   "metadata": {},
   "outputs": [],
   "source": [
    "import numpy as np\n",
    "import pickle\n",
    "\n",
    "with open(\"./data/synthetics_train/annot.pkl\", 'rb') as f:\n",
    "    imgs, landmarks = pickle.load(f)\n"
   ]
  },
  {
   "cell_type": "code",
   "execution_count": 17,
   "metadata": {},
   "outputs": [
    {
     "name": "stdout",
     "output_type": "stream",
     "text": [
      "sobel_000000.jpg\n",
      "99756\n"
     ]
    }
   ],
   "source": [
    "sobel_imgs = [\"sobel_\" + fn for fn in imgs]\n",
    "print(sobel_imgs[0])\n",
    "print(len(sobel_imgs))"
   ]
  },
  {
   "cell_type": "code",
   "execution_count": 18,
   "metadata": {},
   "outputs": [
    {
     "name": "stdout",
     "output_type": "stream",
     "text": [
      "gamma_000000.jpg\n",
      "99756\n"
     ]
    }
   ],
   "source": [
    "gamma_imgs = [\"gamma_\" + fn for fn in imgs]\n",
    "print(gamma_imgs[0])\n",
    "print(len(gamma_imgs))"
   ]
  },
  {
   "cell_type": "code",
   "execution_count": 19,
   "metadata": {},
   "outputs": [
    {
     "name": "stdout",
     "output_type": "stream",
     "text": [
      "299268\n"
     ]
    }
   ],
   "source": [
    "# all = []\n",
    "# all.append(*imgs)\n",
    "# all_imgs_list = imgs.append(sobel_imgs)\n",
    "# all_imgs_list = all_imgs_list.append(gamma_imgs)\n",
    "# print(len(all_imgs_list))\n",
    "# print(len(all))\n",
    "all = [*imgs, *sobel_imgs, *gamma_imgs]\n",
    "print(len(all))"
   ]
  },
  {
   "cell_type": "code",
   "execution_count": 21,
   "metadata": {},
   "outputs": [
    {
     "name": "stdout",
     "output_type": "stream",
     "text": [
      "299268\n"
     ]
    }
   ],
   "source": [
    "all_landmark = [*landmarks, *landmarks, *landmarks]\n",
    "print(len(all_landmark))"
   ]
  },
  {
   "cell_type": "code",
   "execution_count": 23,
   "metadata": {},
   "outputs": [
    {
     "name": "stdout",
     "output_type": "stream",
     "text": [
      "(299268,)\n",
      "(299268, 68, 2)\n"
     ]
    }
   ],
   "source": [
    "with open(\"./new_annot.pkl\", \"wb\") as f:\n",
    "    pickle.dump((all,all_landmark), f)\n",
    "\n",
    "with open(\"./new_annot.pkl\", \"rb\") as f:\n",
    "    new_imgs, new_lds = pickle.load(f)\n",
    "\n",
    "new_imgs, new_lds = np.array(new_imgs), np.array(new_lds)\n",
    "print(new_imgs.shape)\n",
    "print(new_lds.shape)"
   ]
  }
 ],
 "metadata": {
  "interpreter": {
   "hash": "caf1c2fcf97217de91eafa76b907d50f9ea378f5ffbee7f571142d119bb6a771"
  },
  "kernelspec": {
   "display_name": "Python 3.9.12 ('base')",
   "language": "python",
   "name": "python3"
  },
  "language_info": {
   "codemirror_mode": {
    "name": "ipython",
    "version": 3
   },
   "file_extension": ".py",
   "mimetype": "text/x-python",
   "name": "python",
   "nbconvert_exporter": "python",
   "pygments_lexer": "ipython3",
   "version": "3.9.12"
  },
  "orig_nbformat": 4
 },
 "nbformat": 4,
 "nbformat_minor": 2
}
